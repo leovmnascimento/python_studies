{
  "nbformat": 4,
  "nbformat_minor": 0,
  "metadata": {
    "colab": {
      "provenance": [],
      "authorship_tag": "ABX9TyOKQDDG7qWhOv7J3zvdGfXB",
      "include_colab_link": true
    },
    "kernelspec": {
      "name": "python3",
      "display_name": "Python 3"
    },
    "language_info": {
      "name": "python"
    }
  },
  "cells": [
    {
      "cell_type": "markdown",
      "metadata": {
        "id": "view-in-github",
        "colab_type": "text"
      },
      "source": [
        "<a href=\"https://colab.research.google.com/github/leovmnascimento/python_studies/blob/main/Introducao.ipynb\" target=\"_parent\"><img src=\"https://colab.research.google.com/assets/colab-badge.svg\" alt=\"Open In Colab\"/></a>"
      ]
    },
    {
      "cell_type": "markdown",
      "source": [
        "#Introdução"
      ],
      "metadata": {
        "id": "a0eNXzky004P"
      }
    },
    {
      "cell_type": "code",
      "execution_count": null,
      "metadata": {
        "id": "-6rXF5t8eghe"
      },
      "outputs": [],
      "source": [
        "nome = 'Leonardo Viana'\n",
        "print('Olá,', nome,', seja bem-vindo!')"
      ]
    },
    {
      "cell_type": "markdown",
      "source": [
        "#Exemplo 1"
      ],
      "metadata": {
        "id": "jhWyMEEc09b_"
      }
    },
    {
      "cell_type": "code",
      "source": [
        "# define o valor do limiar\n",
        "limiar = 5\n",
        "\n",
        "menores = [] #cria lista dos menores\n",
        "maiores = [] #cria lista dos maiores\n",
        "\n",
        "# divide os valores de 1 a 10 em maiores e menores\n",
        "for i in range (10):\n",
        "    if (i < limiar):\n",
        "      menores.append(i)\n",
        "    else:\n",
        "      maiores.append(i)\n",
        "\n",
        "# imprime na tela os valores das listas\n",
        "print('Resultado final')\n",
        "print('Menores: ', menores)\n",
        "print('Maiores: ', maiores)"
      ],
      "metadata": {
        "id": "-doBqlohiBHP"
      },
      "execution_count": null,
      "outputs": []
    },
    {
      "cell_type": "markdown",
      "source": [
        "#Exemplo 2"
      ],
      "metadata": {
        "id": "38XVCDEJ1EhA"
      }
    },
    {
      "cell_type": "code",
      "source": [
        "nome = 'Leonardo'\n",
        "peso = 76\n",
        "altura = 1.78\n",
        "\n",
        "imc = round(peso / (altura * altura), 2)\n",
        "\n",
        "if(imc < 18.5):\n",
        "    resultado = 'Abaixo do peso'\n",
        "elif(18.5 < imc < 24.9):\n",
        "    resultado = 'Peso normal'\n",
        "elif(25 < imc < 29.9):\n",
        "    resultado = 'Sobre peso'\n",
        "elif(30 < imc < 34.9):\n",
        "    resultado = 'Obesidade grau I'\n",
        "elif(35 < imc < 39.9):\n",
        "    resultado = 'Obesidade grau II'\n",
        "else:\n",
        "    resultado = 'Obesidade grau III'\n",
        "\n",
        "print('Nome:', nome)\n",
        "print('Peso:', peso, 'kg')\n",
        "print('Altura:', altura,' m')\n",
        "print('IMC:', imc)\n",
        "print('Resultado:', resultado)\n"
      ],
      "metadata": {
        "id": "coP41PII0yK2"
      },
      "execution_count": null,
      "outputs": []
    },
    {
      "cell_type": "markdown",
      "source": [
        "#Trabalhando com Strings"
      ],
      "metadata": {
        "id": "YZFnvoOP4ys0"
      }
    },
    {
      "cell_type": "code",
      "source": [
        "p1 = 'Leonardo Viana'\n",
        "p2 = ' leonardo viana '\n",
        "\n",
        "print(p1.upper()) #Transforma todas as letras em maiúsculas\n",
        "print(p1.lower()) #Transforma todas as letras em minúsculas\n",
        "print(p2.title()) #Transforma todas as primeiras letras em maiúsculas\n",
        "\n",
        "print(p1.replace('Viana', 'Nascimento')) #Substitui substrings\n",
        "\n",
        "print(p1.startswith('Leo')) #Verifica o começo da string\n",
        "print(p1.endswith('Nascimento')) #Verifica o final da string\n",
        "print(p1.find('Viana')) #Informa a posição que inicia\n",
        "\n",
        "print(p1.split()) #Divide a string em outras strings\n",
        "print(p2.strip()) #Remove espaços no início e no final"
      ],
      "metadata": {
        "id": "gL3lge8241ue"
      },
      "execution_count": null,
      "outputs": []
    }
  ]
}